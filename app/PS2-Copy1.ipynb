{
 "cells": [
  {
   "cell_type": "code",
   "execution_count": 17,
   "metadata": {},
   "outputs": [],
   "source": [
    "import pandas as pd\n",
    "from bs4 import BeautifulSoup\n",
    "import requests\n",
    "import sqlite3"
   ]
  },
  {
   "cell_type": "markdown",
   "metadata": {},
   "source": [
    "# whatsinthepan.com\n",
    "2. The user agent is marked as * which allows all user agents can scrape\n",
    "3. I minimized my scraping by starting small to make sure my code worked before scrapping for all of my recipes"
   ]
  },
  {
   "cell_type": "code",
   "execution_count": 2,
   "metadata": {},
   "outputs": [],
   "source": [
    "def listToString(s):  \n",
    "    \n",
    "    # initialize an empty string \n",
    "    str1 = \"\"  \n",
    "    \n",
    "    # traverse in the string   \n",
    "    for ele in s:  \n",
    "        str1 += ele + ' '  \n",
    "    \n",
    "    # return string   \n",
    "    return str1  "
   ]
  },
  {
   "cell_type": "code",
   "execution_count": 3,
   "metadata": {},
   "outputs": [],
   "source": [
    "#finds the groups of recipes\n",
    "def find_groups(url):\n",
    "    results = requests.get(url)\n",
    "    soup1 = BeautifulSoup(results.text, 'html.parser')\n",
    "    s1 = soup1.find('div', class_ = 'widget-area recipes-bottom')\n",
    "    href = []\n",
    "    for item in s1.findAll('section', class_ = 'widget featured-content featuredpost'):\n",
    "        href.append(item.p.a['href'])\n",
    "\n",
    "    return href"
   ]
  },
  {
   "cell_type": "code",
   "execution_count": 4,
   "metadata": {},
   "outputs": [],
   "source": [
    "#finds recipes within the groups\n",
    "def find_rec(url):\n",
    "    results = requests.get(url)\n",
    "    soup1 = BeautifulSoup(results.text, 'html.parser')\n",
    "    s1 = soup1.find('main', class_ = 'content')\n",
    "    href = []\n",
    "    for val in s1.findAll('article'):\n",
    "        href.append(val.header.a['href'])\n",
    "    return href"
   ]
  },
  {
   "cell_type": "code",
   "execution_count": 5,
   "metadata": {},
   "outputs": [],
   "source": [
    "def get_ingredients(url):\n",
    "    #querying ingredients\n",
    "    results2 = requests.get(url)\n",
    "    soup2 = BeautifulSoup(results2.text, 'html.parser')\n",
    "    ingredients = soup2.find('ul', class_ ='wprm-recipe-ingredients') #find block of ingredients\n",
    "    #formatting the html to a list\n",
    "    ls = []\n",
    "    name = soup2.title.text\n",
    "    for items in ingredients.findAll('li'):\n",
    "        ls.append(items.text)\n",
    "    return name, ls\n",
    "   "
   ]
  },
  {
   "cell_type": "code",
   "execution_count": 6,
   "metadata": {},
   "outputs": [],
   "source": [
    "#adding and formatting the ingredients into the dataframe\n",
    "def addTo(id, name, ls):\n",
    "    ids = []\n",
    "    name_ls = []\n",
    "    text = []\n",
    "    quantity = []\n",
    "    unit = []\n",
    "    ingredient = []\n",
    "    for val in ls:\n",
    "        ids.append(id)\n",
    "        name_ls.append(name) \n",
    "        text.append(val)\n",
    "        #taking the digits from the text as quantity\n",
    "        temp = [str(i) for i in val.split() if i.isdigit() or i in fractions] \n",
    "        quantity.append(listToString(temp))\n",
    "        #taking values designated as units from the text as units\n",
    "        temp2 = [str(i) for i in val.split() if i in measurements] \n",
    "        unit.append(listToString(temp2))\n",
    "        #taking the remaining elements from the text as ingredients\n",
    "        temp3 = [str(i) for i in val.split() if i not in measurements and not i.isdigit() and i not in fractions]\n",
    "        ingredient.append(listToString(temp3))\n",
    "\n",
    "    #adding our new rows to the df\n",
    "    df = pd.DataFrame(columns =['id', 'name', 'text', 'quantity', 'unit', 'ingredient'])\n",
    "    df['id'] = ids\n",
    "    df['recipe'] = name_ls\n",
    "    df['text'] = text\n",
    "    df['quantity'] = quantity\n",
    "    df['unit'] = unit\n",
    "    df['ingredient'] = ingredient\n",
    "    return(df)"
   ]
  },
  {
   "cell_type": "code",
   "execution_count": 7,
   "metadata": {},
   "outputs": [],
   "source": [
    "#creating the new df\n",
    "recipes_df = pd.DataFrame(columns =['id', 'name', 'text', 'quantity', 'unit', 'ingredient'])"
   ]
  },
  {
   "cell_type": "code",
   "execution_count": 8,
   "metadata": {},
   "outputs": [],
   "source": [
    "#USED IN DATA CLEANING\n",
    "measurements = ['cups', 'tablespoons', 'teaspoon', 'cup', 'tablespoon', 'tbsp', 'tsp']\n",
    "fractions = ['⅓', '½', '1/3', '1/2']"
   ]
  },
  {
   "cell_type": "code",
   "execution_count": 9,
   "metadata": {},
   "outputs": [
    {
     "data": {
      "text/html": [
       "<div>\n",
       "<style scoped>\n",
       "    .dataframe tbody tr th:only-of-type {\n",
       "        vertical-align: middle;\n",
       "    }\n",
       "\n",
       "    .dataframe tbody tr th {\n",
       "        vertical-align: top;\n",
       "    }\n",
       "\n",
       "    .dataframe thead th {\n",
       "        text-align: right;\n",
       "    }\n",
       "</style>\n",
       "<table border=\"1\" class=\"dataframe\">\n",
       "  <thead>\n",
       "    <tr style=\"text-align: right;\">\n",
       "      <th></th>\n",
       "      <th>id</th>\n",
       "      <th>name</th>\n",
       "      <th>text</th>\n",
       "      <th>quantity</th>\n",
       "      <th>unit</th>\n",
       "      <th>ingredient</th>\n",
       "    </tr>\n",
       "  </thead>\n",
       "  <tbody>\n",
       "    <tr>\n",
       "      <th>0</th>\n",
       "      <td>1</td>\n",
       "      <td>White Chocolate Cranberry Cookies (Gluten Free...</td>\n",
       "      <td>2 cups Blanched Almond Flour</td>\n",
       "      <td>2</td>\n",
       "      <td>cups</td>\n",
       "      <td>Blanched Almond Flour</td>\n",
       "    </tr>\n",
       "    <tr>\n",
       "      <th>1</th>\n",
       "      <td>1</td>\n",
       "      <td>White Chocolate Cranberry Cookies (Gluten Free...</td>\n",
       "      <td>½ tsp salt</td>\n",
       "      <td>½</td>\n",
       "      <td>tsp</td>\n",
       "      <td>salt</td>\n",
       "    </tr>\n",
       "    <tr>\n",
       "      <th>2</th>\n",
       "      <td>1</td>\n",
       "      <td>White Chocolate Cranberry Cookies (Gluten Free...</td>\n",
       "      <td>1 tsp baking soda</td>\n",
       "      <td>1</td>\n",
       "      <td>tsp</td>\n",
       "      <td>baking soda</td>\n",
       "    </tr>\n",
       "    <tr>\n",
       "      <th>3</th>\n",
       "      <td>1</td>\n",
       "      <td>White Chocolate Cranberry Cookies (Gluten Free...</td>\n",
       "      <td>1/3 cup butter melted</td>\n",
       "      <td>1/3</td>\n",
       "      <td>cup</td>\n",
       "      <td>butter melted</td>\n",
       "    </tr>\n",
       "    <tr>\n",
       "      <th>4</th>\n",
       "      <td>1</td>\n",
       "      <td>White Chocolate Cranberry Cookies (Gluten Free...</td>\n",
       "      <td>1/3 cup maple syrup</td>\n",
       "      <td>1/3</td>\n",
       "      <td>cup</td>\n",
       "      <td>maple syrup</td>\n",
       "    </tr>\n",
       "    <tr>\n",
       "      <th>...</th>\n",
       "      <td>...</td>\n",
       "      <td>...</td>\n",
       "      <td>...</td>\n",
       "      <td>...</td>\n",
       "      <td>...</td>\n",
       "      <td>...</td>\n",
       "    </tr>\n",
       "    <tr>\n",
       "      <th>2</th>\n",
       "      <td>50</td>\n",
       "      <td>Classic Irish Soda Bread with Whiskey Raisins ...</td>\n",
       "      <td>4  cups  all-purpose flour</td>\n",
       "      <td>4</td>\n",
       "      <td>cups</td>\n",
       "      <td>all-purpose flour</td>\n",
       "    </tr>\n",
       "    <tr>\n",
       "      <th>3</th>\n",
       "      <td>50</td>\n",
       "      <td>Classic Irish Soda Bread with Whiskey Raisins ...</td>\n",
       "      <td>1  teaspoon  baking soda</td>\n",
       "      <td>1</td>\n",
       "      <td>teaspoon</td>\n",
       "      <td>baking soda</td>\n",
       "    </tr>\n",
       "    <tr>\n",
       "      <th>4</th>\n",
       "      <td>50</td>\n",
       "      <td>Classic Irish Soda Bread with Whiskey Raisins ...</td>\n",
       "      <td>1  teaspoon  salt</td>\n",
       "      <td>1</td>\n",
       "      <td>teaspoon</td>\n",
       "      <td>salt</td>\n",
       "    </tr>\n",
       "    <tr>\n",
       "      <th>5</th>\n",
       "      <td>50</td>\n",
       "      <td>Classic Irish Soda Bread with Whiskey Raisins ...</td>\n",
       "      <td>2 tbsp turbinado sugar + more for sprinkling</td>\n",
       "      <td>2</td>\n",
       "      <td>tbsp</td>\n",
       "      <td>turbinado sugar + more for sprinkling</td>\n",
       "    </tr>\n",
       "    <tr>\n",
       "      <th>6</th>\n",
       "      <td>50</td>\n",
       "      <td>Classic Irish Soda Bread with Whiskey Raisins ...</td>\n",
       "      <td>1 1/2  cups  buttermilk</td>\n",
       "      <td>1 1/2</td>\n",
       "      <td>cups</td>\n",
       "      <td>buttermilk</td>\n",
       "    </tr>\n",
       "  </tbody>\n",
       "</table>\n",
       "<p>511 rows × 6 columns</p>\n",
       "</div>"
      ],
      "text/plain": [
       "    id                                               name  \\\n",
       "0    1  White Chocolate Cranberry Cookies (Gluten Free...   \n",
       "1    1  White Chocolate Cranberry Cookies (Gluten Free...   \n",
       "2    1  White Chocolate Cranberry Cookies (Gluten Free...   \n",
       "3    1  White Chocolate Cranberry Cookies (Gluten Free...   \n",
       "4    1  White Chocolate Cranberry Cookies (Gluten Free...   \n",
       "..  ..                                                ...   \n",
       "2   50  Classic Irish Soda Bread with Whiskey Raisins ...   \n",
       "3   50  Classic Irish Soda Bread with Whiskey Raisins ...   \n",
       "4   50  Classic Irish Soda Bread with Whiskey Raisins ...   \n",
       "5   50  Classic Irish Soda Bread with Whiskey Raisins ...   \n",
       "6   50  Classic Irish Soda Bread with Whiskey Raisins ...   \n",
       "\n",
       "                                            text quantity       unit  \\\n",
       "0                   2 cups Blanched Almond Flour       2       cups    \n",
       "1                                     ½ tsp salt       ½        tsp    \n",
       "2                              1 tsp baking soda       1        tsp    \n",
       "3                          1/3 cup butter melted     1/3        cup    \n",
       "4                            1/3 cup maple syrup     1/3        cup    \n",
       "..                                           ...      ...        ...   \n",
       "2                     4  cups  all-purpose flour       4       cups    \n",
       "3                       1  teaspoon  baking soda       1   teaspoon    \n",
       "4                              1  teaspoon  salt       1   teaspoon    \n",
       "5   2 tbsp turbinado sugar + more for sprinkling       2       tbsp    \n",
       "6                        1 1/2  cups  buttermilk   1 1/2       cups    \n",
       "\n",
       "                                ingredient  \n",
       "0                   Blanched Almond Flour   \n",
       "1                                    salt   \n",
       "2                             baking soda   \n",
       "3                           butter melted   \n",
       "4                             maple syrup   \n",
       "..                                     ...  \n",
       "2                       all-purpose flour   \n",
       "3                             baking soda   \n",
       "4                                    salt   \n",
       "5   turbinado sugar + more for sprinkling   \n",
       "6                              buttermilk   \n",
       "\n",
       "[511 rows x 6 columns]"
      ]
     },
     "execution_count": 9,
     "metadata": {},
     "output_type": "execute_result"
    }
   ],
   "source": [
    "#main landing url from where we are scraping\n",
    "url = 'https://whatsinthepan.com/recipes/'\n",
    "ids = 1\n",
    "#myRec = pd.DataFrame(columns =['id', 'name', 'url'])\n",
    "recipes = []\n",
    "for groups in find_groups(url):\n",
    "    reci = find_rec(groups)\n",
    "    for rec in reci:\n",
    "        recipes.append(rec)\n",
    "recipes #big list of recipes hrefs\n",
    "\n",
    "#scraping all the hrefs from the list we just created and adding to the dataframe\n",
    "for rec in recipes:\n",
    "    name, i = get_ingredients(rec)\n",
    "    #myRec.append([ids, name, url])\n",
    "    temp = addTo(ids, name , i)\n",
    "    ids = ids + 1\n",
    "    recipes_df = pd.concat([recipes_df, temp])\n",
    "    \n",
    "recipes_df"
   ]
  },
  {
   "cell_type": "code",
   "execution_count": 39,
   "metadata": {},
   "outputs": [],
   "source": [
    "df = pd.DataFrame(columns=['recipeID', 'url'])\n",
    "df['recipeID'] = [i for i in range(len(recipes))]\n",
    "df['url'] = recipes\n",
    "temp = recipes_df.merge(df, left_on='id', right_on='recipeID')"
   ]
  },
  {
   "cell_type": "code",
   "execution_count": 40,
   "metadata": {},
   "outputs": [],
   "source": [
    "temp = temp.drop(axis=0, columns=['text', 'quantity', 'unit', 'ingredient', 'id'])"
   ]
  },
  {
   "cell_type": "code",
   "execution_count": 41,
   "metadata": {},
   "outputs": [],
   "source": [
    "temp = temp.drop_duplicates(keep='first')"
   ]
  },
  {
   "cell_type": "code",
   "execution_count": 42,
   "metadata": {},
   "outputs": [],
   "source": [
    "temp = temp.reset_index(drop=True)"
   ]
  },
  {
   "cell_type": "code",
   "execution_count": 61,
   "metadata": {},
   "outputs": [],
   "source": [
    "conn = sqlite3.connect('mealplanner.db')\n",
    "cursor = conn.cursor()\n",
    "recipes_df.to_sql('myRec', con=conn, if_exists='append', index=False)\n",
    "conn.commit()"
   ]
  },
  {
   "cell_type": "code",
   "execution_count": 59,
   "metadata": {},
   "outputs": [
    {
     "ename": "KeyError",
     "evalue": "'id'",
     "output_type": "error",
     "traceback": [
      "\u001b[0;31m---------------------------------------------------------------------------\u001b[0m",
      "\u001b[0;31mKeyError\u001b[0m                                  Traceback (most recent call last)",
      "\u001b[0;32m~/anaconda3/lib/python3.7/site-packages/pandas/core/indexes/base.py\u001b[0m in \u001b[0;36mget_loc\u001b[0;34m(self, key, method, tolerance)\u001b[0m\n\u001b[1;32m   2645\u001b[0m             \u001b[0;32mtry\u001b[0m\u001b[0;34m:\u001b[0m\u001b[0;34m\u001b[0m\u001b[0;34m\u001b[0m\u001b[0m\n\u001b[0;32m-> 2646\u001b[0;31m                 \u001b[0;32mreturn\u001b[0m \u001b[0mself\u001b[0m\u001b[0;34m.\u001b[0m\u001b[0m_engine\u001b[0m\u001b[0;34m.\u001b[0m\u001b[0mget_loc\u001b[0m\u001b[0;34m(\u001b[0m\u001b[0mkey\u001b[0m\u001b[0;34m)\u001b[0m\u001b[0;34m\u001b[0m\u001b[0;34m\u001b[0m\u001b[0m\n\u001b[0m\u001b[1;32m   2647\u001b[0m             \u001b[0;32mexcept\u001b[0m \u001b[0mKeyError\u001b[0m\u001b[0;34m:\u001b[0m\u001b[0;34m\u001b[0m\u001b[0;34m\u001b[0m\u001b[0m\n",
      "\u001b[0;32mpandas/_libs/index.pyx\u001b[0m in \u001b[0;36mpandas._libs.index.IndexEngine.get_loc\u001b[0;34m()\u001b[0m\n",
      "\u001b[0;32mpandas/_libs/index.pyx\u001b[0m in \u001b[0;36mpandas._libs.index.IndexEngine.get_loc\u001b[0;34m()\u001b[0m\n",
      "\u001b[0;32mpandas/_libs/hashtable_class_helper.pxi\u001b[0m in \u001b[0;36mpandas._libs.hashtable.PyObjectHashTable.get_item\u001b[0;34m()\u001b[0m\n",
      "\u001b[0;32mpandas/_libs/hashtable_class_helper.pxi\u001b[0m in \u001b[0;36mpandas._libs.hashtable.PyObjectHashTable.get_item\u001b[0;34m()\u001b[0m\n",
      "\u001b[0;31mKeyError\u001b[0m: 'id'",
      "\nDuring handling of the above exception, another exception occurred:\n",
      "\u001b[0;31mKeyError\u001b[0m                                  Traceback (most recent call last)",
      "\u001b[0;32m<ipython-input-59-1907f518b56b>\u001b[0m in \u001b[0;36m<module>\u001b[0;34m\u001b[0m\n\u001b[1;32m      1\u001b[0m \u001b[0;31m#recipes_df['qty'] = recipes_df['quantity'] + recipes_df['unit']\u001b[0m\u001b[0;34m\u001b[0m\u001b[0;34m\u001b[0m\u001b[0;34m\u001b[0m\u001b[0m\n\u001b[0;32m----> 2\u001b[0;31m \u001b[0mrecipes_df\u001b[0m\u001b[0;34m[\u001b[0m\u001b[0;34m'recipeID'\u001b[0m\u001b[0;34m]\u001b[0m \u001b[0;34m=\u001b[0m \u001b[0mrecipes_df\u001b[0m\u001b[0;34m[\u001b[0m\u001b[0;34m'id'\u001b[0m\u001b[0;34m]\u001b[0m\u001b[0;34m\u001b[0m\u001b[0;34m\u001b[0m\u001b[0m\n\u001b[0m\u001b[1;32m      3\u001b[0m \u001b[0mrecipes_df\u001b[0m \u001b[0;34m=\u001b[0m \u001b[0mrecipes_df\u001b[0m\u001b[0;34m.\u001b[0m\u001b[0mdrop\u001b[0m\u001b[0;34m(\u001b[0m\u001b[0mcolumns\u001b[0m\u001b[0;34m=\u001b[0m\u001b[0;34m[\u001b[0m\u001b[0;34m'id'\u001b[0m\u001b[0;34m]\u001b[0m\u001b[0;34m)\u001b[0m\u001b[0;34m\u001b[0m\u001b[0;34m\u001b[0m\u001b[0m\n",
      "\u001b[0;32m~/anaconda3/lib/python3.7/site-packages/pandas/core/frame.py\u001b[0m in \u001b[0;36m__getitem__\u001b[0;34m(self, key)\u001b[0m\n\u001b[1;32m   2798\u001b[0m             \u001b[0;32mif\u001b[0m \u001b[0mself\u001b[0m\u001b[0;34m.\u001b[0m\u001b[0mcolumns\u001b[0m\u001b[0;34m.\u001b[0m\u001b[0mnlevels\u001b[0m \u001b[0;34m>\u001b[0m \u001b[0;36m1\u001b[0m\u001b[0;34m:\u001b[0m\u001b[0;34m\u001b[0m\u001b[0;34m\u001b[0m\u001b[0m\n\u001b[1;32m   2799\u001b[0m                 \u001b[0;32mreturn\u001b[0m \u001b[0mself\u001b[0m\u001b[0;34m.\u001b[0m\u001b[0m_getitem_multilevel\u001b[0m\u001b[0;34m(\u001b[0m\u001b[0mkey\u001b[0m\u001b[0;34m)\u001b[0m\u001b[0;34m\u001b[0m\u001b[0;34m\u001b[0m\u001b[0m\n\u001b[0;32m-> 2800\u001b[0;31m             \u001b[0mindexer\u001b[0m \u001b[0;34m=\u001b[0m \u001b[0mself\u001b[0m\u001b[0;34m.\u001b[0m\u001b[0mcolumns\u001b[0m\u001b[0;34m.\u001b[0m\u001b[0mget_loc\u001b[0m\u001b[0;34m(\u001b[0m\u001b[0mkey\u001b[0m\u001b[0;34m)\u001b[0m\u001b[0;34m\u001b[0m\u001b[0;34m\u001b[0m\u001b[0m\n\u001b[0m\u001b[1;32m   2801\u001b[0m             \u001b[0;32mif\u001b[0m \u001b[0mis_integer\u001b[0m\u001b[0;34m(\u001b[0m\u001b[0mindexer\u001b[0m\u001b[0;34m)\u001b[0m\u001b[0;34m:\u001b[0m\u001b[0;34m\u001b[0m\u001b[0;34m\u001b[0m\u001b[0m\n\u001b[1;32m   2802\u001b[0m                 \u001b[0mindexer\u001b[0m \u001b[0;34m=\u001b[0m \u001b[0;34m[\u001b[0m\u001b[0mindexer\u001b[0m\u001b[0;34m]\u001b[0m\u001b[0;34m\u001b[0m\u001b[0;34m\u001b[0m\u001b[0m\n",
      "\u001b[0;32m~/anaconda3/lib/python3.7/site-packages/pandas/core/indexes/base.py\u001b[0m in \u001b[0;36mget_loc\u001b[0;34m(self, key, method, tolerance)\u001b[0m\n\u001b[1;32m   2646\u001b[0m                 \u001b[0;32mreturn\u001b[0m \u001b[0mself\u001b[0m\u001b[0;34m.\u001b[0m\u001b[0m_engine\u001b[0m\u001b[0;34m.\u001b[0m\u001b[0mget_loc\u001b[0m\u001b[0;34m(\u001b[0m\u001b[0mkey\u001b[0m\u001b[0;34m)\u001b[0m\u001b[0;34m\u001b[0m\u001b[0;34m\u001b[0m\u001b[0m\n\u001b[1;32m   2647\u001b[0m             \u001b[0;32mexcept\u001b[0m \u001b[0mKeyError\u001b[0m\u001b[0;34m:\u001b[0m\u001b[0;34m\u001b[0m\u001b[0;34m\u001b[0m\u001b[0m\n\u001b[0;32m-> 2648\u001b[0;31m                 \u001b[0;32mreturn\u001b[0m \u001b[0mself\u001b[0m\u001b[0;34m.\u001b[0m\u001b[0m_engine\u001b[0m\u001b[0;34m.\u001b[0m\u001b[0mget_loc\u001b[0m\u001b[0;34m(\u001b[0m\u001b[0mself\u001b[0m\u001b[0;34m.\u001b[0m\u001b[0m_maybe_cast_indexer\u001b[0m\u001b[0;34m(\u001b[0m\u001b[0mkey\u001b[0m\u001b[0;34m)\u001b[0m\u001b[0;34m)\u001b[0m\u001b[0;34m\u001b[0m\u001b[0;34m\u001b[0m\u001b[0m\n\u001b[0m\u001b[1;32m   2649\u001b[0m         \u001b[0mindexer\u001b[0m \u001b[0;34m=\u001b[0m \u001b[0mself\u001b[0m\u001b[0;34m.\u001b[0m\u001b[0mget_indexer\u001b[0m\u001b[0;34m(\u001b[0m\u001b[0;34m[\u001b[0m\u001b[0mkey\u001b[0m\u001b[0;34m]\u001b[0m\u001b[0;34m,\u001b[0m \u001b[0mmethod\u001b[0m\u001b[0;34m=\u001b[0m\u001b[0mmethod\u001b[0m\u001b[0;34m,\u001b[0m \u001b[0mtolerance\u001b[0m\u001b[0;34m=\u001b[0m\u001b[0mtolerance\u001b[0m\u001b[0;34m)\u001b[0m\u001b[0;34m\u001b[0m\u001b[0;34m\u001b[0m\u001b[0m\n\u001b[1;32m   2650\u001b[0m         \u001b[0;32mif\u001b[0m \u001b[0mindexer\u001b[0m\u001b[0;34m.\u001b[0m\u001b[0mndim\u001b[0m \u001b[0;34m>\u001b[0m \u001b[0;36m1\u001b[0m \u001b[0;32mor\u001b[0m \u001b[0mindexer\u001b[0m\u001b[0;34m.\u001b[0m\u001b[0msize\u001b[0m \u001b[0;34m>\u001b[0m \u001b[0;36m1\u001b[0m\u001b[0;34m:\u001b[0m\u001b[0;34m\u001b[0m\u001b[0;34m\u001b[0m\u001b[0m\n",
      "\u001b[0;32mpandas/_libs/index.pyx\u001b[0m in \u001b[0;36mpandas._libs.index.IndexEngine.get_loc\u001b[0;34m()\u001b[0m\n",
      "\u001b[0;32mpandas/_libs/index.pyx\u001b[0m in \u001b[0;36mpandas._libs.index.IndexEngine.get_loc\u001b[0;34m()\u001b[0m\n",
      "\u001b[0;32mpandas/_libs/hashtable_class_helper.pxi\u001b[0m in \u001b[0;36mpandas._libs.hashtable.PyObjectHashTable.get_item\u001b[0;34m()\u001b[0m\n",
      "\u001b[0;32mpandas/_libs/hashtable_class_helper.pxi\u001b[0m in \u001b[0;36mpandas._libs.hashtable.PyObjectHashTable.get_item\u001b[0;34m()\u001b[0m\n",
      "\u001b[0;31mKeyError\u001b[0m: 'id'"
     ]
    }
   ],
   "source": [
    "#recipes_df['qty'] = recipes_df['quantity'] + recipes_df['unit']\n",
    "recipes_df['recipeID'] = recipes_df['id']\n",
    "recipes_df = recipes_df.drop(columns=['id'])"
   ]
  },
  {
   "cell_type": "code",
   "execution_count": null,
   "metadata": {},
   "outputs": [],
   "source": []
  },
  {
   "cell_type": "code",
   "execution_count": 60,
   "metadata": {},
   "outputs": [
    {
     "data": {
      "text/html": [
       "<div>\n",
       "<style scoped>\n",
       "    .dataframe tbody tr th:only-of-type {\n",
       "        vertical-align: middle;\n",
       "    }\n",
       "\n",
       "    .dataframe tbody tr th {\n",
       "        vertical-align: top;\n",
       "    }\n",
       "\n",
       "    .dataframe thead th {\n",
       "        text-align: right;\n",
       "    }\n",
       "</style>\n",
       "<table border=\"1\" class=\"dataframe\">\n",
       "  <thead>\n",
       "    <tr style=\"text-align: right;\">\n",
       "      <th></th>\n",
       "      <th>ingredient</th>\n",
       "      <th>qty</th>\n",
       "      <th>recipeID</th>\n",
       "    </tr>\n",
       "  </thead>\n",
       "  <tbody>\n",
       "    <tr>\n",
       "      <th>0</th>\n",
       "      <td>Blanched Almond Flour</td>\n",
       "      <td>2 cups</td>\n",
       "      <td>1</td>\n",
       "    </tr>\n",
       "    <tr>\n",
       "      <th>1</th>\n",
       "      <td>salt</td>\n",
       "      <td>½ tsp</td>\n",
       "      <td>1</td>\n",
       "    </tr>\n",
       "    <tr>\n",
       "      <th>2</th>\n",
       "      <td>baking soda</td>\n",
       "      <td>1 tsp</td>\n",
       "      <td>1</td>\n",
       "    </tr>\n",
       "    <tr>\n",
       "      <th>3</th>\n",
       "      <td>butter melted</td>\n",
       "      <td>1/3 cup</td>\n",
       "      <td>1</td>\n",
       "    </tr>\n",
       "    <tr>\n",
       "      <th>4</th>\n",
       "      <td>maple syrup</td>\n",
       "      <td>1/3 cup</td>\n",
       "      <td>1</td>\n",
       "    </tr>\n",
       "    <tr>\n",
       "      <th>...</th>\n",
       "      <td>...</td>\n",
       "      <td>...</td>\n",
       "      <td>...</td>\n",
       "    </tr>\n",
       "    <tr>\n",
       "      <th>2</th>\n",
       "      <td>all-purpose flour</td>\n",
       "      <td>4 cups</td>\n",
       "      <td>50</td>\n",
       "    </tr>\n",
       "    <tr>\n",
       "      <th>3</th>\n",
       "      <td>baking soda</td>\n",
       "      <td>1 teaspoon</td>\n",
       "      <td>50</td>\n",
       "    </tr>\n",
       "    <tr>\n",
       "      <th>4</th>\n",
       "      <td>salt</td>\n",
       "      <td>1 teaspoon</td>\n",
       "      <td>50</td>\n",
       "    </tr>\n",
       "    <tr>\n",
       "      <th>5</th>\n",
       "      <td>turbinado sugar + more for sprinkling</td>\n",
       "      <td>2 tbsp</td>\n",
       "      <td>50</td>\n",
       "    </tr>\n",
       "    <tr>\n",
       "      <th>6</th>\n",
       "      <td>buttermilk</td>\n",
       "      <td>1 1/2 cups</td>\n",
       "      <td>50</td>\n",
       "    </tr>\n",
       "  </tbody>\n",
       "</table>\n",
       "<p>511 rows × 3 columns</p>\n",
       "</div>"
      ],
      "text/plain": [
       "                                ingredient          qty recipeID\n",
       "0                   Blanched Almond Flour       2 cups         1\n",
       "1                                    salt        ½ tsp         1\n",
       "2                             baking soda        1 tsp         1\n",
       "3                           butter melted      1/3 cup         1\n",
       "4                             maple syrup      1/3 cup         1\n",
       "..                                     ...          ...      ...\n",
       "2                       all-purpose flour       4 cups        50\n",
       "3                             baking soda   1 teaspoon        50\n",
       "4                                    salt   1 teaspoon        50\n",
       "5   turbinado sugar + more for sprinkling       2 tbsp        50\n",
       "6                              buttermilk   1 1/2 cups        50\n",
       "\n",
       "[511 rows x 3 columns]"
      ]
     },
     "execution_count": 60,
     "metadata": {},
     "output_type": "execute_result"
    }
   ],
   "source": [
    "recipes_df"
   ]
  },
  {
   "cell_type": "code",
   "execution_count": 310,
   "metadata": {},
   "outputs": [],
   "source": [
    "#df to csv\n",
    "recipes_df.to_csv('recipes.csv')"
   ]
  },
  {
   "cell_type": "code",
   "execution_count": 20,
   "metadata": {},
   "outputs": [
    {
     "data": {
      "text/plain": [
       "50"
      ]
     },
     "execution_count": 20,
     "metadata": {},
     "output_type": "execute_result"
    }
   ],
   "source": [
    "len(recipes)"
   ]
  },
  {
   "cell_type": "code",
   "execution_count": 2,
   "metadata": {},
   "outputs": [],
   "source": [
    "#read back csv\n",
    "df = pd.read_csv('recipes.csv')"
   ]
  },
  {
   "cell_type": "code",
   "execution_count": 6,
   "metadata": {},
   "outputs": [],
   "source": [
    "#drop index column made when converting to csv\n",
    "df = df.drop(columns =['Unnamed: 0'])"
   ]
  },
  {
   "cell_type": "code",
   "execution_count": 7,
   "metadata": {},
   "outputs": [],
   "source": [
    "#counting how many columns have salt or sugar\n",
    "salt = 0\n",
    "sugar = 0\n",
    "for row in df['ingredient']:\n",
    "    if 'salt' in row :\n",
    "        salt = salt + 1\n",
    "    if 'sugar' in row :\n",
    "        sugar = sugar + 1"
   ]
  },
  {
   "cell_type": "code",
   "execution_count": 8,
   "metadata": {},
   "outputs": [
    {
     "data": {
      "text/plain": [
       "259"
      ]
     },
     "execution_count": 8,
     "metadata": {},
     "output_type": "execute_result"
    }
   ],
   "source": [
    "salt\n",
    "#there is more salt by count"
   ]
  },
  {
   "cell_type": "code",
   "execution_count": 9,
   "metadata": {},
   "outputs": [
    {
     "data": {
      "text/plain": [
       "119"
      ]
     },
     "execution_count": 9,
     "metadata": {},
     "output_type": "execute_result"
    }
   ],
   "source": [
    "sugar"
   ]
  },
  {
   "cell_type": "code",
   "execution_count": 84,
   "metadata": {},
   "outputs": [],
   "source": [
    "#counting teaspoons of salt and sugar\n",
    "salt = 0\n",
    "sugar = 0\n",
    "for i, row in df.iterrows():\n",
    "    if 'salt' in row['ingredient'] :\n",
    "        if row['quantity'] != 'nan':\n",
    "            try:\n",
    "                salt = salt + int(row['quantity'])\n",
    "            except:\n",
    "                #the fractions are rounded up to half for simplification\n",
    "                salt = salt + .5\n",
    "    if 'sugar' in row['ingredient'] :\n",
    "        if row['quantity'] != 'nan':\n",
    "            try:\n",
    "                sugar = sugar + int(row['quantity'])\n",
    "            except:\n",
    "                #the fractions are rounded up to half for simplification\n",
    "                sugar = sugar + .5"
   ]
  },
  {
   "cell_type": "code",
   "execution_count": 85,
   "metadata": {},
   "outputs": [
    {
     "data": {
      "text/plain": [
       "122.5"
      ]
     },
     "execution_count": 85,
     "metadata": {},
     "output_type": "execute_result"
    }
   ],
   "source": [
    "salt"
   ]
  },
  {
   "cell_type": "code",
   "execution_count": 86,
   "metadata": {},
   "outputs": [
    {
     "data": {
      "text/plain": [
       "150.5"
      ]
     },
     "execution_count": 86,
     "metadata": {},
     "output_type": "execute_result"
    }
   ],
   "source": [
    "sugar\n",
    "#there is more sugar by volume"
   ]
  },
  {
   "cell_type": "markdown",
   "metadata": {},
   "source": [
    "# I spent 4 hours on this assignment"
   ]
  },
  {
   "cell_type": "code",
   "execution_count": null,
   "metadata": {},
   "outputs": [],
   "source": []
  }
 ],
 "metadata": {
  "kernelspec": {
   "display_name": "Python 3",
   "language": "python",
   "name": "python3"
  },
  "language_info": {
   "codemirror_mode": {
    "name": "ipython",
    "version": 3
   },
   "file_extension": ".py",
   "mimetype": "text/x-python",
   "name": "python",
   "nbconvert_exporter": "python",
   "pygments_lexer": "ipython3",
   "version": "3.7.7"
  }
 },
 "nbformat": 4,
 "nbformat_minor": 4
}
